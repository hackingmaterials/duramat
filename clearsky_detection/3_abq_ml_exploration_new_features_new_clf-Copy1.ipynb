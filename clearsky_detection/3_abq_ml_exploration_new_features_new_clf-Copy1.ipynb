{
 "cells": [
  {
   "cell_type": "markdown",
   "metadata": {
    "toc": "true"
   },
   "source": [
    "# Table of Contents\n",
    " <p><div class=\"lev1 toc-item\"><a href=\"#Ground-predictions\" data-toc-modified-id=\"Ground-predictions-1\"><span class=\"toc-item-num\">1&nbsp;&nbsp;</span>Ground predictions</a></div><div class=\"lev2 toc-item\"><a href=\"#PVLib-Clearsky\" data-toc-modified-id=\"PVLib-Clearsky-11\"><span class=\"toc-item-num\">1.1&nbsp;&nbsp;</span>PVLib Clearsky</a></div><div class=\"lev1 toc-item\"><a href=\"#Train/test-on-NSRDB-data\" data-toc-modified-id=\"Train/test-on-NSRDB-data-2\"><span class=\"toc-item-num\">2&nbsp;&nbsp;</span>Train/test on NSRDB data</a></div>"
   ]
  },
  {
   "cell_type": "code",
   "execution_count": 1,
   "metadata": {
    "collapsed": true
   },
   "outputs": [],
   "source": [
    "import pandas as pd\n",
    "import numpy as np\n",
    "import os\n",
    "import datetime\n",
    "import matplotlib\n",
    "import matplotlib.pyplot as plt\n",
    "from mpl_toolkits.axes_grid1 import make_axes_locatable\n",
    "from sklearn import tree\n",
    "\n",
    "import pytz\n",
    "import itertools\n",
    "import visualize\n",
    "import utils\n",
    "import pydotplus\n",
    "import xgboost as xgb\n",
    "\n",
    "from sklearn import metrics\n",
    "\n",
    "import pvlib\n",
    "import cs_detection_refactor as cs_detection\n",
    "# import cs_detection_refactor\n",
    "# import visualize\n",
    "# from bokeh.plotting import output_notebook\n",
    "# output_notebook()\n",
    "\n",
    "import visualize_plotly as visualize\n",
    "\n",
    "from IPython.display import Image\n",
    "\n",
    "\n",
    "\n",
    "%load_ext autoreload\n",
    "%autoreload 2\n",
    "\n",
    "np.set_printoptions(precision=4)\n",
    "%matplotlib notebook"
   ]
  },
  {
   "cell_type": "markdown",
   "metadata": {},
   "source": [
    "# Ground predictions"
   ]
  },
  {
   "cell_type": "markdown",
   "metadata": {},
   "source": [
    "## PVLib Clearsky"
   ]
  },
  {
   "cell_type": "markdown",
   "metadata": {},
   "source": [
    "Only making ground predictions using PVLib clearsky model and statistical model.  NSRDB model won't be available to ground measurements."
   ]
  },
  {
   "cell_type": "code",
   "execution_count": 2,
   "metadata": {
    "collapsed": true
   },
   "outputs": [],
   "source": [
    "nsrdb = cs_detection.ClearskyDetection.read_pickle('abq_nsrdb_1.pkl.gz')\n",
    "nsrdb.df.index = nsrdb.df.index.tz_convert('MST')"
   ]
  },
  {
   "cell_type": "raw",
   "metadata": {},
   "source": [
    "nsrdb.trim_dates('01-01-2014', '01-01-2016')"
   ]
  },
  {
   "cell_type": "code",
   "execution_count": 3,
   "metadata": {
    "collapsed": true
   },
   "outputs": [],
   "source": [
    "nsrdb.time_from_solar_noon('Clearsky GHI pvlib', 'tfn')"
   ]
  },
  {
   "cell_type": "code",
   "execution_count": 4,
   "metadata": {
    "collapsed": true
   },
   "outputs": [],
   "source": [
    "ground = cs_detection.ClearskyDetection.read_pickle('abq_ground_1.pkl.gz')\n",
    "ground.df.index = ground.df.index.tz_convert('MST')"
   ]
  },
  {
   "cell_type": "code",
   "execution_count": 5,
   "metadata": {
    "collapsed": true
   },
   "outputs": [],
   "source": [
    "feature_cols = [\n",
    "'tfn',\n",
    "'abs_ideal_ratio_diff',\n",
    "'abs_ideal_ratio_diff mean',\n",
    "'abs_ideal_ratio_diff std',\n",
    "'abs_ideal_ratio_diff max',\n",
    "'abs_ideal_ratio_diff min',\n",
    "# 'abs_ideal_ratio_diff range',\n",
    "# 'abs_ideal_ratio_diff gradient',\n",
    "# 'abs_ideal_ratio_diff gradient mean',\n",
    "# 'abs_ideal_ratio_diff gradient std',\n",
    "# 'abs_ideal_ratio_diff gradient max',\n",
    "# 'abs_ideal_ratio_diff gradient min',\n",
    "# 'abs_ideal_ratio_diff gradient range',\n",
    "# 'abs_ideal_ratio_diff gradient second',\n",
    "# 'abs_ideal_ratio_diff gradient second mean',\n",
    "# 'abs_ideal_ratio_diff gradient second std',\n",
    "# 'abs_ideal_ratio_diff gradient second max',\n",
    "# 'abs_ideal_ratio_diff gradient second min',\n",
    "# 'abs_ideal_ratio_diff gradient second range',\n",
    "'GHI Clearsky GHI pvlib gradient ratio', \n",
    "'GHI Clearsky GHI pvlib gradient ratio mean', \n",
    "'GHI Clearsky GHI pvlib gradient ratio std', \n",
    "'GHI Clearsky GHI pvlib gradient ratio min', \n",
    "'GHI Clearsky GHI pvlib gradient ratio max', \n",
    "# 'GHI Clearsky GHI pvlib gradient ratio range', \n",
    "'GHI Clearsky GHI pvlib gradient second ratio', \n",
    "'GHI Clearsky GHI pvlib gradient second ratio mean', \n",
    "'GHI Clearsky GHI pvlib gradient second ratio std', \n",
    "'GHI Clearsky GHI pvlib gradient second ratio min', \n",
    "'GHI Clearsky GHI pvlib gradient second ratio max', \n",
    "# 'GHI Clearsky GHI pvlib gradient second ratio range',\n",
    "'GHI Clearsky GHI pvlib line length ratio',\n",
    "'GHI Clearsky GHI pvlib line length ratio gradient',\n",
    "'GHI Clearsky GHI pvlib line length ratio gradient second'\n",
    "]\n",
    "\n",
    "target_cols = ['sky_status']"
   ]
  },
  {
   "cell_type": "markdown",
   "metadata": {},
   "source": [
    "# Train/test on NSRDB data"
   ]
  },
  {
   "cell_type": "code",
   "execution_count": 8,
   "metadata": {
    "collapsed": true
   },
   "outputs": [],
   "source": [
    "train = cs_detection.ClearskyDetection(nsrdb.df)\n",
    "train.scale_model('GHI', 'Clearsky GHI pvlib', 'sky_status')\n",
    "train.calc_all_window_metrics(train.df, 3, col1='GHI', col2='Clearsky GHI pvlib', overwrite=True)"
   ]
  },
  {
   "cell_type": "code",
   "execution_count": 9,
   "metadata": {
    "collapsed": true
   },
   "outputs": [],
   "source": [
    "from sklearn import preprocessing"
   ]
  },
  {
   "cell_type": "code",
   "execution_count": 11,
   "metadata": {},
   "outputs": [],
   "source": [
    "X = preprocessing.StandardScaler().fit_transform(train.df[feature_cols].values)"
   ]
  },
  {
   "cell_type": "code",
   "execution_count": 12,
   "metadata": {
    "collapsed": true
   },
   "outputs": [],
   "source": [
    "from sklearn import decomposition"
   ]
  },
  {
   "cell_type": "code",
   "execution_count": 26,
   "metadata": {
    "collapsed": true
   },
   "outputs": [],
   "source": [
    "pca = decomposition.PCA(n_components=3)"
   ]
  },
  {
   "cell_type": "code",
   "execution_count": 27,
   "metadata": {},
   "outputs": [],
   "source": [
    "X_pca = pca.fit_transform(X)"
   ]
  },
  {
   "cell_type": "code",
   "execution_count": 28,
   "metadata": {},
   "outputs": [
    {
     "data": {
      "text/plain": [
       "array([ 0.2362,  0.1805,  0.174 ])"
      ]
     },
     "execution_count": 28,
     "metadata": {},
     "output_type": "execute_result"
    }
   ],
   "source": [
    "pca.explained_variance_ratio_"
   ]
  },
  {
   "cell_type": "code",
   "execution_count": 29,
   "metadata": {},
   "outputs": [
    {
     "data": {
      "text/html": [
       "<script>requirejs.config({paths: { 'plotly': ['https://cdn.plot.ly/plotly-latest.min']},});if(!window.Plotly) {{require(['plotly'],function(plotly) {window.Plotly=plotly;});}}</script>"
      ],
      "text/vnd.plotly.v1+html": [
       "<script>requirejs.config({paths: { 'plotly': ['https://cdn.plot.ly/plotly-latest.min']},});if(!window.Plotly) {{require(['plotly'],function(plotly) {window.Plotly=plotly;});}}</script>"
      ]
     },
     "metadata": {},
     "output_type": "display_data"
    }
   ],
   "source": [
    "import plotly.plotly as py\n",
    "from plotly.graph_objs import *\n",
    "import plotly.tools as tls\n",
    "from plotly.offline import download_plotlyjs, init_notebook_mode, plot, iplot\n",
    "init_notebook_mode(True)"
   ]
  },
  {
   "cell_type": "code",
   "execution_count": 31,
   "metadata": {},
   "outputs": [
    {
     "data": {
      "text/plain": [
       "'file:///Users/benellis/duramat/clearsky_detection/temp-plot.html'"
      ]
     },
     "execution_count": 31,
     "metadata": {},
     "output_type": "execute_result"
    }
   ],
   "source": [
    "trace = Scatter3d(x=X_pca[:, 0], y=X_pca[:, 1], z=X_pca[:, 2], mode='markers')\n",
    "plot([trace])"
   ]
  },
  {
   "cell_type": "code",
   "execution_count": null,
   "metadata": {
    "collapsed": true
   },
   "outputs": [],
   "source": []
  }
 ],
 "metadata": {
  "kernelspec": {
   "display_name": "Python 3",
   "language": "python",
   "name": "python3"
  },
  "language_info": {
   "codemirror_mode": {
    "name": "ipython",
    "version": 3
   },
   "file_extension": ".py",
   "mimetype": "text/x-python",
   "name": "python",
   "nbconvert_exporter": "python",
   "pygments_lexer": "ipython3",
   "version": "3.5.3"
  },
  "toc": {
   "colors": {
    "hover_highlight": "#DAA520",
    "navigate_num": "#000000",
    "navigate_text": "#333333",
    "running_highlight": "#FF0000",
    "selected_highlight": "#FFD700",
    "sidebar_border": "#EEEEEE",
    "wrapper_background": "#FFFFFF"
   },
   "moveMenuLeft": true,
   "nav_menu": {
    "height": "91px",
    "width": "251px"
   },
   "navigate_menu": true,
   "number_sections": true,
   "sideBar": true,
   "threshold": 4,
   "toc_cell": true,
   "toc_section_display": "block",
   "toc_window_display": true,
   "widenNotebook": false
  }
 },
 "nbformat": 4,
 "nbformat_minor": 2
}
