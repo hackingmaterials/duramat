version https://git-lfs.github.com/spec/v1
oid sha256:70f03c9597ca153e79ed925d2861ff73d3aca667717467bc517115330e1f487e
size 8862219
