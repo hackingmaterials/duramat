version https://git-lfs.github.com/spec/v1
oid sha256:4a601cacf4745f94f47fb9d3c769e8cf7d408ebb4db124ca65a3c2f138bf7393
size 7239213
