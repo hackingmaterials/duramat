version https://git-lfs.github.com/spec/v1
oid sha256:23ec72909d3f18c2b332f669787a3ff7669b4a06ca501a88258571c6758305c0
size 2921498
