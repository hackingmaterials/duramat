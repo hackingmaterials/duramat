version https://git-lfs.github.com/spec/v1
oid sha256:2d27def79c447b1b495e3a6812f950950a3de8b12d8cccb0583dabc3c9e8ef5c
size 31840
