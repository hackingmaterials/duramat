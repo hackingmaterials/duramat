version https://git-lfs.github.com/spec/v1
oid sha256:ed46cf2d3e3644368559d8b843a2d066b6ca8084903dc0044941fbc29916ee56
size 7612
