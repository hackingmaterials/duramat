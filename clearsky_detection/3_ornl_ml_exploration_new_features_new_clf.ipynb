version https://git-lfs.github.com/spec/v1
oid sha256:1fc9caf95d5a124be9684fce2f00d883426296096def5b60dd9d296b5f8e4c7f
size 3006824
