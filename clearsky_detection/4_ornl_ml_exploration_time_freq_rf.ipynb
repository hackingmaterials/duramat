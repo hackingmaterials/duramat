version https://git-lfs.github.com/spec/v1
oid sha256:d644be15a101d3e559e5cc335b251c5df20602207e232d2b0dacce5aef978d9d
size 16406573
