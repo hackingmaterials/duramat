version https://git-lfs.github.com/spec/v1
oid sha256:41c2bdab398c78aa86e73216206c0662ced23a22f1927beb8ba4e057a24678fe
size 30059924
