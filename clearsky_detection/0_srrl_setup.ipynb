{
 "cells": [
  {
   "cell_type": "markdown",
   "metadata": {
    "toc": "true"
   },
   "source": [
    "# Table of Contents\n",
    " <p><div class=\"lev1 toc-item\"><a href=\"#Load-data\" data-toc-modified-id=\"Load-data-1\"><span class=\"toc-item-num\">1&nbsp;&nbsp;</span>Load data</a></div><div class=\"lev1 toc-item\"><a href=\"#Set-up-data\" data-toc-modified-id=\"Set-up-data-2\"><span class=\"toc-item-num\">2&nbsp;&nbsp;</span>Set up data</a></div><div class=\"lev1 toc-item\"><a href=\"#Set-up-data---statistical-clearsky\" data-toc-modified-id=\"Set-up-data---statistical-clearsky-3\"><span class=\"toc-item-num\">3&nbsp;&nbsp;</span>Set up data - statistical clearsky</a></div><div class=\"lev1 toc-item\"><a href=\"#Dump-to-file\" data-toc-modified-id=\"Dump-to-file-4\"><span class=\"toc-item-num\">4&nbsp;&nbsp;</span>Dump to file</a></div><div class=\"lev2 toc-item\"><a href=\"#Test-read\" data-toc-modified-id=\"Test-read-41\"><span class=\"toc-item-num\">4.1&nbsp;&nbsp;</span>Test read</a></div>"
   ]
  },
  {
   "cell_type": "code",
   "execution_count": 1,
   "metadata": {
    "collapsed": true
   },
   "outputs": [],
   "source": [
    "import pandas as pd\n",
    "import numpy as np\n",
    "import os\n",
    "import datetime\n",
    "import matplotlib\n",
    "import matplotlib.pyplot as plt\n",
    "from mpl_toolkits.axes_grid1 import make_axes_locatable\n",
    "\n",
    "import pytz\n",
    "import itertools\n",
    "\n",
    "import pvlib\n",
    "import utils\n",
    "import model_free\n",
    "\n",
    "import concurrent.futures\n",
    "\n",
    "np.set_printoptions(precision=4)\n",
    "%matplotlib notebook\n",
    "\n",
    "%load_ext autoreload\n",
    "%autoreload 2"
   ]
  },
  {
   "cell_type": "markdown",
   "metadata": {},
   "source": [
    "# Load data"
   ]
  },
  {
   "cell_type": "code",
   "execution_count": 2,
   "metadata": {
    "collapsed": true
   },
   "outputs": [],
   "source": [
    "NSRDB_PATH = os.path.expanduser('/Users/benellis/data_sets/nsrdb/srrl_area/')\n",
    "GROUND_PATH = os.path.expanduser('/Users/benellis/data_sets/srrl/srrl_psp/')"
   ]
  },
  {
   "cell_type": "code",
   "execution_count": 3,
   "metadata": {
    "collapsed": true
   },
   "outputs": [],
   "source": [
    "nsrdb_df = utils.read_dir_nsrdb(NSRDB_PATH, 'US/Mountain')\n",
    "ground_df = utils.read_srrl_dir(GROUND_PATH, 'Etc/GMT+7', 'US/Mountain')"
   ]
  },
  {
   "cell_type": "markdown",
   "metadata": {},
   "source": [
    "# Set up data"
   ]
  },
  {
   "cell_type": "code",
   "execution_count": 4,
   "metadata": {
    "collapsed": true
   },
   "outputs": [],
   "source": [
    "# rename so GHI is named same as NSRDB\n",
    "# ground_df['GHI'] = ground_df['Global 40-South LI-200 [W/m^2]']\n",
    "ground_df['GHI'] = ground_df['Global PSP [W/m^2]']\n",
    "ground_df['GHI'].fillna(ground_df['Global PSP (cor) [W/m^2]'], inplace=True)"
   ]
  },
  {
   "cell_type": "code",
   "execution_count": 5,
   "metadata": {
    "collapsed": true
   },
   "outputs": [],
   "source": [
    "# there are some collection issues before 2009 - those will be ignored\n",
    "ground_df = ground_df[(ground_df.index > '01-01-2009')]# & (ground_df.index < '01-01-2012')]"
   ]
  },
  {
   "cell_type": "code",
   "execution_count": 6,
   "metadata": {
    "collapsed": true
   },
   "outputs": [],
   "source": [
    "# filter off below zero irradiance\n",
    "nsrdb_df[nsrdb_df['GHI'] < 0] = 0\n",
    "ground_df[ground_df['GHI'] < 0] = 0"
   ]
  },
  {
   "cell_type": "code",
   "execution_count": 7,
   "metadata": {},
   "outputs": [
    {
     "data": {
      "text/plain": [
       "array([      'NaT', 60000000000], dtype='timedelta64[ns]')"
      ]
     },
     "execution_count": 7,
     "metadata": {},
     "output_type": "execute_result"
    }
   ],
   "source": [
    "pd.unique(ground_df.index.to_series().diff())"
   ]
  },
  {
   "cell_type": "code",
   "execution_count": 8,
   "metadata": {},
   "outputs": [
    {
     "name": "stderr",
     "output_type": "stream",
     "text": [
      "/Users/benellis/miniconda3/lib/python3.5/site-packages/pvlib/clearsky.py:658: RuntimeWarning: invalid value encountered in true_divide\n",
      "  meas_slope_nstd = np.std(meas_slope, axis=0, ddof=1) / meas_mean\n",
      "/Users/benellis/miniconda3/lib/python3.5/site-packages/pvlib/clearsky.py:683: RuntimeWarning: invalid value encountered in less\n",
      "  c4 = meas_slope_nstd < var_diff\n"
     ]
    }
   ],
   "source": [
    "# generate clearsky model for ground-based measurements\n",
    "snl_params = {'tilt': 40, 'elevation': 1829, 'azimuth': 180, 'lat': 39.74, 'lon': -105.18}\n",
    "rtc = utils.make_pvlib_sys(**snl_params)\n",
    "clear_skies = rtc.get_clearsky(ground_df.index)\n",
    "clear_skies = pd.Series(clear_skies['ghi'])\n",
    "clear_skies.index = ground_df.index\n",
    "ground_df['Clearsky GHI'] = clear_skies\n",
    "ground_df['sky_status'], _, alpha = pvlib.clearsky.detect_clearsky(ground_df['GHI'], ground_df['Clearsky GHI'], ground_df.index, 10, return_components=True)\n",
    "ground_df['Clearsky GHI scale'] = alpha * ground_df['Clearsky GHI']"
   ]
  },
  {
   "cell_type": "code",
   "execution_count": 9,
   "metadata": {
    "collapsed": true
   },
   "outputs": [],
   "source": [
    "nsrdb_df['sky_status'] = (nsrdb_df['Cloud Type'] == 0) & (nsrdb_df['GHI'] > 0)"
   ]
  },
  {
   "cell_type": "code",
   "execution_count": 10,
   "metadata": {
    "collapsed": true
   },
   "outputs": [],
   "source": [
    "ground_df['ratio'] = utils.calc_ratio(ground_df['GHI'], ground_df['Clearsky GHI'])\n",
    "ground_df['abs_diff_ratio'] = utils.calc_abs_ratio_diff(ground_df['GHI'], ground_df['Clearsky GHI'])"
   ]
  },
  {
   "cell_type": "code",
   "execution_count": 11,
   "metadata": {
    "collapsed": true
   },
   "outputs": [],
   "source": [
    "ground_df['ratio scale'] = utils.calc_ratio(ground_df['GHI'], ground_df['Clearsky GHI scale'])\n",
    "ground_df['abs_diff_ratio scale'] = utils.calc_abs_ratio_diff(ground_df['GHI'], ground_df['Clearsky GHI scale'])"
   ]
  },
  {
   "cell_type": "code",
   "execution_count": 12,
   "metadata": {
    "collapsed": true
   },
   "outputs": [],
   "source": [
    "nsrdb_df['ratio'] = utils.calc_ratio(nsrdb_df['GHI'], nsrdb_df['Clearsky GHI'])\n",
    "nsrdb_df['abs_diff_ratio'] = utils.calc_abs_ratio_diff(nsrdb_df['GHI'], nsrdb_df['Clearsky GHI'])"
   ]
  },
  {
   "cell_type": "markdown",
   "metadata": {},
   "source": [
    "# Set up data - statistical clearsky"
   ]
  },
  {
   "cell_type": "code",
   "execution_count": 13,
   "metadata": {
    "collapsed": true
   },
   "outputs": [],
   "source": [
    "mf = model_free.ModelFreeDetect(nsrdb_df['GHI'])"
   ]
  },
  {
   "cell_type": "code",
   "execution_count": 14,
   "metadata": {},
   "outputs": [
    {
     "name": "stderr",
     "output_type": "stream",
     "text": [
      "/Users/benellis/miniconda3/lib/python3.5/site-packages/numpy/lib/function_base.py:4011: RuntimeWarning: All-NaN slice encountered\n",
      "  r = func(a, **kwargs)\n"
     ]
    }
   ],
   "source": [
    "stat_cs = mf.generate_stat_cs(model_fxn=np.nanpercentile, percentile=90, num_days=30) # , smooth_window=60, smooth_fxn=np.nanmean)"
   ]
  },
  {
   "cell_type": "code",
   "execution_count": 15,
   "metadata": {
    "collapsed": true
   },
   "outputs": [],
   "source": [
    "nsrdb_df['Clearsky GHI stat'] = stat_cs"
   ]
  },
  {
   "cell_type": "code",
   "execution_count": 16,
   "metadata": {
    "collapsed": true
   },
   "outputs": [],
   "source": [
    "mf = model_free.ModelFreeDetect(ground_df['GHI'])"
   ]
  },
  {
   "cell_type": "code",
   "execution_count": 17,
   "metadata": {},
   "outputs": [
    {
     "name": "stderr",
     "output_type": "stream",
     "text": [
      "/Users/benellis/miniconda3/lib/python3.5/site-packages/numpy/lib/function_base.py:4011: RuntimeWarning: All-NaN slice encountered\n",
      "  r = func(a, **kwargs)\n"
     ]
    }
   ],
   "source": [
    "stat_cs = mf.generate_stat_cs(model_fxn=np.nanpercentile, percentile=90, num_days=30, smooth_window=90, smooth_fxn=np.nanmean)"
   ]
  },
  {
   "cell_type": "code",
   "execution_count": 18,
   "metadata": {
    "collapsed": true
   },
   "outputs": [],
   "source": [
    "ground_df['Clearsky GHI stat'] = stat_cs"
   ]
  },
  {
   "cell_type": "code",
   "execution_count": 19,
   "metadata": {
    "collapsed": true
   },
   "outputs": [],
   "source": [
    "ground_df['ratio stat'] = utils.calc_ratio(ground_df['GHI'], ground_df['Clearsky GHI stat'])\n",
    "ground_df['abs_diff_ratio stat'] = utils.calc_abs_ratio_diff(ground_df['GHI'], ground_df['Clearsky GHI stat'])"
   ]
  },
  {
   "cell_type": "code",
   "execution_count": 20,
   "metadata": {
    "collapsed": true
   },
   "outputs": [],
   "source": [
    "nsrdb_df['ratio stat'] = utils.calc_ratio(nsrdb_df['GHI'], nsrdb_df['Clearsky GHI stat'])\n",
    "nsrdb_df['abs_diff_ratio stat'] = utils.calc_abs_ratio_diff(nsrdb_df['GHI'], nsrdb_df['Clearsky GHI stat'])"
   ]
  },
  {
   "cell_type": "markdown",
   "metadata": {},
   "source": [
    "# Dump to file"
   ]
  },
  {
   "cell_type": "code",
   "execution_count": 21,
   "metadata": {},
   "outputs": [
    {
     "data": {
      "text/html": [
       "<div>\n",
       "<style>\n",
       "    .dataframe thead tr:only-child th {\n",
       "        text-align: right;\n",
       "    }\n",
       "\n",
       "    .dataframe thead th {\n",
       "        text-align: left;\n",
       "    }\n",
       "\n",
       "    .dataframe tbody tr th {\n",
       "        vertical-align: top;\n",
       "    }\n",
       "</style>\n",
       "<table border=\"1\" class=\"dataframe\">\n",
       "  <thead>\n",
       "    <tr style=\"text-align: right;\">\n",
       "      <th></th>\n",
       "      <th>Year</th>\n",
       "      <th>Month</th>\n",
       "      <th>Day</th>\n",
       "      <th>Hour</th>\n",
       "      <th>Minute</th>\n",
       "      <th>DHI</th>\n",
       "      <th>DNI</th>\n",
       "      <th>GHI</th>\n",
       "      <th>Clearsky DHI</th>\n",
       "      <th>Clearsky DNI</th>\n",
       "      <th>...</th>\n",
       "      <th>Precipitable Water</th>\n",
       "      <th>Wind Direction</th>\n",
       "      <th>Wind Speed</th>\n",
       "      <th>Fill Flag</th>\n",
       "      <th>sky_status</th>\n",
       "      <th>ratio</th>\n",
       "      <th>abs_diff_ratio</th>\n",
       "      <th>Clearsky GHI stat</th>\n",
       "      <th>ratio stat</th>\n",
       "      <th>abs_diff_ratio stat</th>\n",
       "    </tr>\n",
       "  </thead>\n",
       "  <tbody>\n",
       "    <tr>\n",
       "      <th>1997-12-31 17:00:00-07:00</th>\n",
       "      <td>1998.0</td>\n",
       "      <td>1.0</td>\n",
       "      <td>1.0</td>\n",
       "      <td>0.0</td>\n",
       "      <td>0.0</td>\n",
       "      <td>0.0</td>\n",
       "      <td>0.0</td>\n",
       "      <td>0.0</td>\n",
       "      <td>0.0</td>\n",
       "      <td>0.0</td>\n",
       "      <td>...</td>\n",
       "      <td>3.741810</td>\n",
       "      <td>268.450653</td>\n",
       "      <td>4.049125</td>\n",
       "      <td>0.0</td>\n",
       "      <td>False</td>\n",
       "      <td>1.0</td>\n",
       "      <td>0.0</td>\n",
       "      <td>25.0</td>\n",
       "      <td>0.0</td>\n",
       "      <td>1.0</td>\n",
       "    </tr>\n",
       "    <tr>\n",
       "      <th>1997-12-31 17:30:00-07:00</th>\n",
       "      <td>1998.0</td>\n",
       "      <td>1.0</td>\n",
       "      <td>1.0</td>\n",
       "      <td>0.0</td>\n",
       "      <td>30.0</td>\n",
       "      <td>0.0</td>\n",
       "      <td>0.0</td>\n",
       "      <td>0.0</td>\n",
       "      <td>0.0</td>\n",
       "      <td>0.0</td>\n",
       "      <td>...</td>\n",
       "      <td>3.803859</td>\n",
       "      <td>268.450653</td>\n",
       "      <td>4.200805</td>\n",
       "      <td>0.0</td>\n",
       "      <td>False</td>\n",
       "      <td>1.0</td>\n",
       "      <td>0.0</td>\n",
       "      <td>0.0</td>\n",
       "      <td>1.0</td>\n",
       "      <td>0.0</td>\n",
       "    </tr>\n",
       "    <tr>\n",
       "      <th>1997-12-31 18:00:00-07:00</th>\n",
       "      <td>1998.0</td>\n",
       "      <td>1.0</td>\n",
       "      <td>1.0</td>\n",
       "      <td>1.0</td>\n",
       "      <td>0.0</td>\n",
       "      <td>0.0</td>\n",
       "      <td>0.0</td>\n",
       "      <td>0.0</td>\n",
       "      <td>0.0</td>\n",
       "      <td>0.0</td>\n",
       "      <td>...</td>\n",
       "      <td>3.865908</td>\n",
       "      <td>268.394196</td>\n",
       "      <td>4.352484</td>\n",
       "      <td>0.0</td>\n",
       "      <td>False</td>\n",
       "      <td>1.0</td>\n",
       "      <td>0.0</td>\n",
       "      <td>0.0</td>\n",
       "      <td>1.0</td>\n",
       "      <td>0.0</td>\n",
       "    </tr>\n",
       "    <tr>\n",
       "      <th>1997-12-31 18:30:00-07:00</th>\n",
       "      <td>1998.0</td>\n",
       "      <td>1.0</td>\n",
       "      <td>1.0</td>\n",
       "      <td>1.0</td>\n",
       "      <td>30.0</td>\n",
       "      <td>0.0</td>\n",
       "      <td>0.0</td>\n",
       "      <td>0.0</td>\n",
       "      <td>0.0</td>\n",
       "      <td>0.0</td>\n",
       "      <td>...</td>\n",
       "      <td>3.922091</td>\n",
       "      <td>268.394196</td>\n",
       "      <td>4.455772</td>\n",
       "      <td>0.0</td>\n",
       "      <td>False</td>\n",
       "      <td>1.0</td>\n",
       "      <td>0.0</td>\n",
       "      <td>0.0</td>\n",
       "      <td>1.0</td>\n",
       "      <td>0.0</td>\n",
       "    </tr>\n",
       "    <tr>\n",
       "      <th>1997-12-31 19:00:00-07:00</th>\n",
       "      <td>1998.0</td>\n",
       "      <td>1.0</td>\n",
       "      <td>1.0</td>\n",
       "      <td>2.0</td>\n",
       "      <td>0.0</td>\n",
       "      <td>0.0</td>\n",
       "      <td>0.0</td>\n",
       "      <td>0.0</td>\n",
       "      <td>0.0</td>\n",
       "      <td>0.0</td>\n",
       "      <td>...</td>\n",
       "      <td>3.978275</td>\n",
       "      <td>268.050659</td>\n",
       "      <td>4.559062</td>\n",
       "      <td>0.0</td>\n",
       "      <td>False</td>\n",
       "      <td>1.0</td>\n",
       "      <td>0.0</td>\n",
       "      <td>0.0</td>\n",
       "      <td>1.0</td>\n",
       "      <td>0.0</td>\n",
       "    </tr>\n",
       "  </tbody>\n",
       "</table>\n",
       "<p>5 rows × 27 columns</p>\n",
       "</div>"
      ],
      "text/plain": [
       "                             Year  Month  Day  Hour  Minute  DHI  DNI  GHI  \\\n",
       "1997-12-31 17:00:00-07:00  1998.0    1.0  1.0   0.0     0.0  0.0  0.0  0.0   \n",
       "1997-12-31 17:30:00-07:00  1998.0    1.0  1.0   0.0    30.0  0.0  0.0  0.0   \n",
       "1997-12-31 18:00:00-07:00  1998.0    1.0  1.0   1.0     0.0  0.0  0.0  0.0   \n",
       "1997-12-31 18:30:00-07:00  1998.0    1.0  1.0   1.0    30.0  0.0  0.0  0.0   \n",
       "1997-12-31 19:00:00-07:00  1998.0    1.0  1.0   2.0     0.0  0.0  0.0  0.0   \n",
       "\n",
       "                           Clearsky DHI  Clearsky DNI         ...           \\\n",
       "1997-12-31 17:00:00-07:00           0.0           0.0         ...            \n",
       "1997-12-31 17:30:00-07:00           0.0           0.0         ...            \n",
       "1997-12-31 18:00:00-07:00           0.0           0.0         ...            \n",
       "1997-12-31 18:30:00-07:00           0.0           0.0         ...            \n",
       "1997-12-31 19:00:00-07:00           0.0           0.0         ...            \n",
       "\n",
       "                           Precipitable Water  Wind Direction  Wind Speed  \\\n",
       "1997-12-31 17:00:00-07:00            3.741810      268.450653    4.049125   \n",
       "1997-12-31 17:30:00-07:00            3.803859      268.450653    4.200805   \n",
       "1997-12-31 18:00:00-07:00            3.865908      268.394196    4.352484   \n",
       "1997-12-31 18:30:00-07:00            3.922091      268.394196    4.455772   \n",
       "1997-12-31 19:00:00-07:00            3.978275      268.050659    4.559062   \n",
       "\n",
       "                           Fill Flag  sky_status  ratio  abs_diff_ratio  \\\n",
       "1997-12-31 17:00:00-07:00        0.0       False    1.0             0.0   \n",
       "1997-12-31 17:30:00-07:00        0.0       False    1.0             0.0   \n",
       "1997-12-31 18:00:00-07:00        0.0       False    1.0             0.0   \n",
       "1997-12-31 18:30:00-07:00        0.0       False    1.0             0.0   \n",
       "1997-12-31 19:00:00-07:00        0.0       False    1.0             0.0   \n",
       "\n",
       "                           Clearsky GHI stat  ratio stat  abs_diff_ratio stat  \n",
       "1997-12-31 17:00:00-07:00               25.0         0.0                  1.0  \n",
       "1997-12-31 17:30:00-07:00                0.0         1.0                  0.0  \n",
       "1997-12-31 18:00:00-07:00                0.0         1.0                  0.0  \n",
       "1997-12-31 18:30:00-07:00                0.0         1.0                  0.0  \n",
       "1997-12-31 19:00:00-07:00                0.0         1.0                  0.0  \n",
       "\n",
       "[5 rows x 27 columns]"
      ]
     },
     "execution_count": 21,
     "metadata": {},
     "output_type": "execute_result"
    }
   ],
   "source": [
    "nsrdb_df.head()"
   ]
  },
  {
   "cell_type": "code",
   "execution_count": 22,
   "metadata": {
    "collapsed": true
   },
   "outputs": [],
   "source": [
    "nsrdb_df.to_pickle('./srrl_nsrdb_df.pkl.gzip', compression='gzip')"
   ]
  },
  {
   "cell_type": "code",
   "execution_count": 23,
   "metadata": {
    "collapsed": true
   },
   "outputs": [],
   "source": [
    "ground_df.to_pickle('./srrl_ground_df.pkl.gzip', compression='gzip')"
   ]
  },
  {
   "cell_type": "markdown",
   "metadata": {},
   "source": [
    "## Test read"
   ]
  },
  {
   "cell_type": "code",
   "execution_count": 24,
   "metadata": {
    "collapsed": true
   },
   "outputs": [],
   "source": [
    "nsrdb_df_read = pd.read_pickle('./srrl_nsrdb_df.pkl.gzip', compression='gzip')"
   ]
  },
  {
   "cell_type": "code",
   "execution_count": 25,
   "metadata": {},
   "outputs": [
    {
     "data": {
      "text/plain": [
       "True"
      ]
     },
     "execution_count": 25,
     "metadata": {},
     "output_type": "execute_result"
    }
   ],
   "source": [
    "nsrdb_df_read.equals(nsrdb_df)"
   ]
  },
  {
   "cell_type": "code",
   "execution_count": 26,
   "metadata": {
    "collapsed": true
   },
   "outputs": [],
   "source": [
    "ground_df_read = pd.read_pickle('./srrl_ground_df.pkl.gzip', compression='gzip')"
   ]
  },
  {
   "cell_type": "code",
   "execution_count": 27,
   "metadata": {},
   "outputs": [
    {
     "data": {
      "text/plain": [
       "True"
      ]
     },
     "execution_count": 27,
     "metadata": {},
     "output_type": "execute_result"
    }
   ],
   "source": [
    "ground_df_read.equals(ground_df)"
   ]
  },
  {
   "cell_type": "code",
   "execution_count": null,
   "metadata": {
    "collapsed": true
   },
   "outputs": [],
   "source": []
  }
 ],
 "metadata": {
  "kernelspec": {
   "display_name": "Python 3",
   "language": "python",
   "name": "python3"
  },
  "language_info": {
   "codemirror_mode": {
    "name": "ipython",
    "version": 3
   },
   "file_extension": ".py",
   "mimetype": "text/x-python",
   "name": "python",
   "nbconvert_exporter": "python",
   "pygments_lexer": "ipython3",
   "version": "3.5.3"
  },
  "toc": {
   "colors": {
    "hover_highlight": "#DAA520",
    "navigate_num": "#000000",
    "navigate_text": "#333333",
    "running_highlight": "#FF0000",
    "selected_highlight": "#FFD700",
    "sidebar_border": "#EEEEEE",
    "wrapper_background": "#FFFFFF"
   },
   "moveMenuLeft": true,
   "nav_menu": {
    "height": "91px",
    "width": "251px"
   },
   "navigate_menu": true,
   "number_sections": true,
   "sideBar": true,
   "threshold": 4,
   "toc_cell": true,
   "toc_section_display": "block",
   "toc_window_display": true,
   "widenNotebook": false
  }
 },
 "nbformat": 4,
 "nbformat_minor": 2
}
