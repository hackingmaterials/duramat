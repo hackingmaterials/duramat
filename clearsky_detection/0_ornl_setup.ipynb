version https://git-lfs.github.com/spec/v1
oid sha256:ab67b0cf42a171a420cf8b5637db4db53daeddc2bd415f140d7817233e353ac0
size 6931
