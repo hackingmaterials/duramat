version https://git-lfs.github.com/spec/v1
oid sha256:e980bba0750fa77272b9f5d8eeb812d56e6caea043cabbce33a21b97fd5b27a6
size 4979148
