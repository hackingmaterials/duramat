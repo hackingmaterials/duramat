version https://git-lfs.github.com/spec/v1
oid sha256:2b64fc8c915ba7e53032f23b5df6b4c5f18717520b7e5cee959885051b5e5e94
size 2659261
