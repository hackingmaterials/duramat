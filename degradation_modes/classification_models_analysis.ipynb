{
 "cells": [
  {
   "cell_type": "markdown",
   "metadata": {},
   "source": [
    "## Preamble\n",
    "\n",
    "### Import libraries"
   ]
  },
  {
   "cell_type": "code",
   "execution_count": 1,
   "metadata": {
    "collapsed": true
   },
   "outputs": [],
   "source": [
    "import io, os, sys, types, subprocess, collections\n",
    "\n",
    "# Import Pandas\n",
    "import pandas as pd\n",
    "import matplotlib.pyplot as plt\n",
    "%matplotlib inline\n",
    "\n",
    "# Import numpy\n",
    "import numpy as np\n",
    "\n",
    "# Import SciKit decision tree\n",
    "from sklearn.tree import DecisionTreeClassifier, export_graphviz\n",
    "\n",
    "# Import Scikit cross-validation function\n",
    "from sklearn.cross_validation import cross_val_score\n",
    "from sklearn.grid_search import GridSearchCV\n",
    "\n",
    "# Import naive bayes\n",
    "from sklearn.naive_bayes import BernoulliNB"
   ]
  },
  {
   "cell_type": "markdown",
   "metadata": {},
   "source": [
    "## Step 1:\n",
    "\n",
    "### Import CSV containing photovoltaic performance of solar cells into Pandas Data Frame object"
   ]
  },
  {
   "cell_type": "code",
   "execution_count": 2,
   "metadata": {
    "collapsed": true
   },
   "outputs": [],
   "source": [
    "# Import module to read in secure data\n",
    "sys.path.append('../data/NREL')\n",
    "import retrieve_data as rd"
   ]
  },
  {
   "cell_type": "code",
   "execution_count": 3,
   "metadata": {
    "collapsed": true
   },
   "outputs": [],
   "source": [
    "solar = rd.retrieve_dirks_sheet()"
   ]
  },
  {
   "cell_type": "markdown",
   "metadata": {},
   "source": [
    "## Step 2:\n",
    "\n",
    "### Clean the data for inconsistencies"
   ]
  },
  {
   "cell_type": "code",
   "execution_count": 4,
   "metadata": {
    "collapsed": true
   },
   "outputs": [],
   "source": [
    "sys.path.append('utils')\n",
    "import process_data as prd"
   ]
  },
  {
   "cell_type": "code",
   "execution_count": 5,
   "metadata": {
    "collapsed": false
   },
   "outputs": [],
   "source": [
    "prd.clean_data(solar)"
   ]
  },
  {
   "cell_type": "code",
   "execution_count": 10,
   "metadata": {
    "collapsed": false
   },
   "outputs": [
    {
     "name": "stdout",
     "output_type": "stream",
     "text": [
      "Minor delamination\n",
      "Encapsulant discoloration\n",
      "Glass breakage\n",
      "Internal circuitry failure\n",
      "Backsheet other\n",
      "Major delamination\n",
      "Permanent soiling\n",
      "Frame deformation\n",
      "Fractured cells\n",
      "2345\n",
      "2346\n",
      "2347\n",
      "2348\n",
      "2349\n",
      "2350\n",
      "2351\n",
      "2352\n",
      "2353\n",
      "2354\n",
      "2355\n",
      "2356\n",
      "2357\n",
      "2358\n",
      "2359\n",
      "2360\n",
      "2361\n",
      "2362\n",
      "2363\n",
      "2364\n",
      "2365\n",
      "2366\n",
      "2367\n",
      "2368\n",
      "2369\n",
      "2370\n",
      "2371\n",
      "2372\n",
      "2373\n",
      "2374\n",
      "2375\n",
      "2376\n",
      "2377\n",
      "2378\n",
      "2379\n",
      "2380\n",
      "2381\n",
      "2382\n",
      "2383\n",
      "2384\n",
      "2385\n",
      "2386\n",
      "2387\n",
      "2388\n",
      "2389\n",
      "2390\n",
      "2391\n",
      "2392\n",
      "Hot spots\n",
      "10883\n",
      "Backsheet insulation compromise\n",
      "Diode/J-box problem\n",
      "4838\n",
      "4839\n",
      "4840\n",
      "4841\n",
      "4842\n",
      "4843\n",
      "4844\n",
      "4845\n",
      "4846\n",
      "4847\n",
      "4848\n",
      "4849\n",
      "4850\n",
      "4851\n",
      "4852\n",
      "4853\n",
      "4854\n",
      "4855\n",
      "4856\n",
      "4857\n",
      "4858\n",
      "4859\n",
      "4860\n",
      "4861\n",
      "4862\n",
      "4863\n",
      "4864\n",
      "4865\n",
      "4866\n",
      "4867\n",
      "4868\n",
      "4869\n",
      "4870\n",
      "4871\n",
      "4872\n",
      "4873\n",
      "4874\n",
      "4875\n",
      "4876\n",
      "4877\n",
      "4878\n",
      "4879\n",
      "4880\n",
      "4881\n",
      "4882\n",
      "4883\n",
      "4884\n",
      "4885\n",
      "4886\n",
      "4887\n",
      "4888\n",
      "4889\n",
      "4890\n",
      "4891\n",
      "4892\n",
      "4893\n",
      "4894\n",
      "4895\n",
      "4896\n",
      "4897\n",
      "4898\n",
      "4899\n",
      "4900\n",
      "4901\n",
      "4902\n",
      "4903\n",
      "4904\n",
      "4905\n",
      "4906\n",
      "4907\n",
      "4908\n",
      "4909\n",
      "4910\n",
      "4911\n",
      "4912\n",
      "4913\n",
      "4914\n",
      "4915\n",
      "4916\n",
      "4917\n",
      "4918\n",
      "4919\n",
      "4920\n",
      "4921\n",
      "4922\n",
      "4923\n",
      "4924\n",
      "4925\n",
      "4926\n",
      "4927\n",
      "4928\n",
      "4929\n",
      "4930\n",
      "4931\n",
      "4932\n",
      "4933\n",
      "4934\n",
      "4935\n",
      "4936\n",
      "4937\n",
      "4938\n",
      "4939\n",
      "4940\n",
      "4941\n",
      "4942\n",
      "4943\n",
      "4944\n",
      "4945\n",
      "4946\n",
      "4947\n",
      "4948\n",
      "4949\n",
      "4950\n",
      "4951\n",
      "4952\n",
      "4953\n",
      "4954\n",
      "4955\n",
      "4956\n",
      "4957\n",
      "4958\n",
      "4959\n",
      "4960\n",
      "4961\n",
      "4962\n",
      "4963\n",
      "4964\n",
      "4965\n",
      "4966\n",
      "4967\n",
      "4968\n",
      "4969\n",
      "4970\n",
      "4971\n",
      "4972\n",
      "4973\n",
      "4974\n",
      "4975\n",
      "4976\n",
      "4977\n",
      "4978\n",
      "4979\n",
      "4980\n",
      "4981\n",
      "4982\n",
      "4983\n",
      "4984\n",
      "4985\n",
      "4986\n",
      "4987\n",
      "4988\n",
      "4989\n",
      "4990\n",
      "4991\n",
      "4992\n",
      "4993\n",
      "4994\n",
      "4995\n",
      "4996\n",
      "4997\n",
      "4998\n",
      "4999\n",
      "5000\n",
      "5001\n",
      "5002\n",
      "5003\n",
      "5004\n",
      "5005\n",
      "5006\n",
      "5007\n",
      "5008\n",
      "5009\n",
      "5010\n",
      "5011\n",
      "5012\n",
      "5013\n",
      "5014\n",
      "5015\n",
      "5016\n",
      "5017\n",
      "5018\n",
      "5019\n",
      "5020\n",
      "5021\n",
      "5022\n",
      "5023\n",
      "5024\n",
      "5025\n",
      "5026\n",
      "5027\n",
      "5028\n",
      "5029\n",
      "5030\n",
      "5031\n",
      "5032\n",
      "5033\n",
      "5034\n",
      "5035\n",
      "5036\n",
      "5037\n",
      "5038\n",
      "5039\n",
      "5040\n",
      "5041\n",
      "5042\n",
      "5043\n",
      "5044\n",
      "5045\n",
      "5046\n",
      "5047\n",
      "5048\n",
      "5049\n",
      "5050\n",
      "5051\n",
      "5052\n",
      "5053\n",
      "5054\n",
      "5055\n",
      "5056\n",
      "5057\n",
      "5058\n",
      "5059\n",
      "5060\n",
      "5061\n",
      "5062\n",
      "5063\n",
      "5064\n",
      "5065\n",
      "5066\n",
      "5067\n",
      "5068\n",
      "5069\n",
      "5070\n",
      "5071\n",
      "5072\n",
      "5073\n",
      "5074\n",
      "5075\n",
      "5076\n",
      "5077\n",
      "5078\n",
      "5079\n",
      "5080\n",
      "5081\n",
      "5082\n",
      "5083\n",
      "5084\n",
      "5085\n",
      "5086\n",
      "5087\n",
      "5088\n",
      "5089\n",
      "5090\n",
      "5091\n",
      "5092\n",
      "5093\n",
      "5094\n",
      "5095\n",
      "5096\n",
      "5097\n",
      "5098\n",
      "5099\n",
      "5100\n",
      "5101\n",
      "5102\n",
      "5103\n",
      "5104\n",
      "5105\n",
      "5106\n",
      "5107\n",
      "5108\n",
      "5109\n",
      "5110\n",
      "5111\n",
      "5112\n",
      "5113\n",
      "5114\n",
      "5115\n",
      "5116\n",
      "5117\n",
      "5118\n",
      "5119\n",
      "5120\n",
      "5121\n",
      "5122\n",
      "5123\n",
      "5124\n",
      "5125\n",
      "5126\n",
      "5127\n",
      "5128\n",
      "5129\n",
      "5130\n",
      "5131\n",
      "5132\n",
      "5133\n",
      "5134\n",
      "5135\n",
      "5136\n",
      "5137\n",
      "5138\n",
      "5139\n",
      "5140\n",
      "5141\n",
      "5142\n",
      "5143\n",
      "5144\n",
      "5145\n",
      "5146\n",
      "5147\n",
      "5148\n",
      "5149\n",
      "5150\n",
      "5151\n",
      "5152\n",
      "5153\n",
      "5154\n",
      "5155\n",
      "5156\n",
      "5157\n",
      "5158\n",
      "5159\n",
      "5160\n",
      "5161\n",
      "5162\n",
      "5163\n",
      "5164\n",
      "5165\n",
      "5166\n",
      "5167\n",
      "5168\n",
      "5169\n",
      "5170\n",
      "5171\n",
      "5172\n",
      "5173\n",
      "5174\n",
      "5175\n",
      "5176\n",
      "5177\n",
      "5178\n",
      "5179\n",
      "5180\n",
      "5181\n",
      "5182\n",
      "5183\n",
      "5184\n",
      "5185\n",
      "5186\n",
      "5187\n",
      "5188\n",
      "5189\n",
      "5190\n",
      "5191\n",
      "5192\n",
      "5193\n",
      "5194\n",
      "5195\n",
      "5196\n",
      "5197\n",
      "5198\n",
      "5199\n",
      "5200\n",
      "5201\n",
      "5202\n",
      "5203\n",
      "5204\n",
      "5205\n",
      "5206\n",
      "5207\n",
      "5208\n",
      "5209\n",
      "5210\n",
      "5211\n",
      "5212\n",
      "5213\n",
      "5214\n",
      "Internal circuitry discoloration\n",
      "Potential induced degradation\n"
     ]
    }
   ],
   "source": [
    "a = True\n",
    "b = True\n",
    "import collections\n",
    "\n",
    "for mode in mode_dictionary.keys():\n",
    "    print(mode)\n",
    "    for index, row in solar.iterrows():\n",
    "        #print(row['Cause (Cleaned)'])\n",
    "        a = False\n",
    "        b = False\n",
    "        if isinstance(row['Cause (Cleaned)'], collections.MutableSequence):\n",
    "            if isinstance(mode in row['Cause (Cleaned)'], collections.MutableSequence):\n",
    "                if any(mode in row['Cause (Cleaned)']):\n",
    "                    a = True\n",
    "            else:\n",
    "                if (mode in row['Cause (Cleaned)']):\n",
    "                    a = True\n",
    "        if row['Cause ' + mode]:\n",
    "            b = True\n",
    "        if (not a == b):\n",
    "            print(index)"
   ]
  },
  {
   "cell_type": "code",
   "execution_count": 15,
   "metadata": {
    "collapsed": false
   },
   "outputs": [
    {
     "data": {
      "text/plain": [
       "u'29 interconnect;9 delam;5 burns;4 solder;4 discolor;2 hotspots 1diode'"
      ]
     },
     "execution_count": 15,
     "metadata": {},
     "output_type": "execute_result"
    }
   ],
   "source": [
    "solar.loc[5214]['Cause']"
   ]
  },
  {
   "cell_type": "markdown",
   "metadata": {},
   "source": [
    "### Decision trees - Setup data and build models"
   ]
  },
  {
   "cell_type": "code",
   "execution_count": null,
   "metadata": {
    "collapsed": true
   },
   "outputs": [],
   "source": []
  },
  {
   "cell_type": "markdown",
   "metadata": {},
   "source": [
    "### Naive Bayes - Setup data and build models"
   ]
  },
  {
   "cell_type": "code",
   "execution_count": 10,
   "metadata": {
    "collapsed": true
   },
   "outputs": [],
   "source": [
    "# Selected climates to use for fitting decision trees\n",
    "climates = ['Moderate', 'Desert', 'Hot & Humid', 'Snow']\n",
    "# Selected mountings to use for fitting decision trees\n",
    "mountings = ['rack', '1-axis tracker', 'roof rack', 'roof']\n",
    "# Selected causes to use as a target for generated decision trees\n",
    "causes = ['Hot spots', 'Encapsulant discoloration', 'Major delamination', 'Internal circuitry discoloration',\n",
    "         'Fractured cells', 'Glass breakage', 'Permanent soiling', 'Diode/J-box problem']"
   ]
  },
  {
   "cell_type": "code",
   "execution_count": 15,
   "metadata": {
    "collapsed": false
   },
   "outputs": [
    {
     "data": {
      "text/html": [
       "<div>\n",
       "<table border=\"1\" class=\"dataframe\">\n",
       "  <thead>\n",
       "    <tr style=\"text-align: right;\">\n",
       "      <th></th>\n",
       "      <th>Mounting</th>\n",
       "      <th>1-axis tracker</th>\n",
       "      <th>2-axis tracker</th>\n",
       "      <th>façade/BIPV</th>\n",
       "      <th>rack</th>\n",
       "      <th>roof</th>\n",
       "      <th>roof rack</th>\n",
       "      <th>single-axis</th>\n",
       "      <th>Climate3</th>\n",
       "      <th>Desert</th>\n",
       "      <th>...</th>\n",
       "      <th>After 2000</th>\n",
       "      <th>Cause (Cleaned)</th>\n",
       "      <th>Hot spots</th>\n",
       "      <th>Encapsulant discoloration</th>\n",
       "      <th>Major delamination</th>\n",
       "      <th>Internal circuitry discoloration</th>\n",
       "      <th>Fractured cells</th>\n",
       "      <th>Glass breakage</th>\n",
       "      <th>Permanent soiling</th>\n",
       "      <th>Diode/J-box problem</th>\n",
       "    </tr>\n",
       "  </thead>\n",
       "  <tbody>\n",
       "    <tr>\n",
       "      <th>11041</th>\n",
       "      <td>single-axis</td>\n",
       "      <td>0</td>\n",
       "      <td>0</td>\n",
       "      <td>0</td>\n",
       "      <td>0</td>\n",
       "      <td>0</td>\n",
       "      <td>0</td>\n",
       "      <td>1</td>\n",
       "      <td>Snow</td>\n",
       "      <td>0</td>\n",
       "      <td>...</td>\n",
       "      <td>1</td>\n",
       "      <td>[extrusion, disc, del, Glass breakage, Hot spots]</td>\n",
       "      <td>1</td>\n",
       "      <td>0</td>\n",
       "      <td>0</td>\n",
       "      <td>0</td>\n",
       "      <td>0</td>\n",
       "      <td>1</td>\n",
       "      <td>0</td>\n",
       "      <td>0</td>\n",
       "    </tr>\n",
       "    <tr>\n",
       "      <th>11042</th>\n",
       "      <td>single-axis</td>\n",
       "      <td>0</td>\n",
       "      <td>0</td>\n",
       "      <td>0</td>\n",
       "      <td>0</td>\n",
       "      <td>0</td>\n",
       "      <td>0</td>\n",
       "      <td>1</td>\n",
       "      <td>Snow</td>\n",
       "      <td>0</td>\n",
       "      <td>...</td>\n",
       "      <td>1</td>\n",
       "      <td>[extrusion, disc, del, Glass breakage, Hot spots]</td>\n",
       "      <td>1</td>\n",
       "      <td>0</td>\n",
       "      <td>0</td>\n",
       "      <td>0</td>\n",
       "      <td>0</td>\n",
       "      <td>1</td>\n",
       "      <td>0</td>\n",
       "      <td>0</td>\n",
       "    </tr>\n",
       "    <tr>\n",
       "      <th>11043</th>\n",
       "      <td>single-axis</td>\n",
       "      <td>0</td>\n",
       "      <td>0</td>\n",
       "      <td>0</td>\n",
       "      <td>0</td>\n",
       "      <td>0</td>\n",
       "      <td>0</td>\n",
       "      <td>1</td>\n",
       "      <td>Snow</td>\n",
       "      <td>0</td>\n",
       "      <td>...</td>\n",
       "      <td>1</td>\n",
       "      <td>[extrusion, disc, del, Glass breakage, Hot spots]</td>\n",
       "      <td>1</td>\n",
       "      <td>0</td>\n",
       "      <td>0</td>\n",
       "      <td>0</td>\n",
       "      <td>0</td>\n",
       "      <td>1</td>\n",
       "      <td>0</td>\n",
       "      <td>0</td>\n",
       "    </tr>\n",
       "    <tr>\n",
       "      <th>11044</th>\n",
       "      <td>single-axis</td>\n",
       "      <td>0</td>\n",
       "      <td>0</td>\n",
       "      <td>0</td>\n",
       "      <td>0</td>\n",
       "      <td>0</td>\n",
       "      <td>0</td>\n",
       "      <td>1</td>\n",
       "      <td>Snow</td>\n",
       "      <td>0</td>\n",
       "      <td>...</td>\n",
       "      <td>1</td>\n",
       "      <td>[extrusion, disc, del, Glass breakage, Hot spots]</td>\n",
       "      <td>1</td>\n",
       "      <td>0</td>\n",
       "      <td>0</td>\n",
       "      <td>0</td>\n",
       "      <td>0</td>\n",
       "      <td>1</td>\n",
       "      <td>0</td>\n",
       "      <td>0</td>\n",
       "    </tr>\n",
       "    <tr>\n",
       "      <th>11045</th>\n",
       "      <td>single-axis</td>\n",
       "      <td>0</td>\n",
       "      <td>0</td>\n",
       "      <td>0</td>\n",
       "      <td>0</td>\n",
       "      <td>0</td>\n",
       "      <td>0</td>\n",
       "      <td>1</td>\n",
       "      <td>Snow</td>\n",
       "      <td>0</td>\n",
       "      <td>...</td>\n",
       "      <td>1</td>\n",
       "      <td>[extrusion, disc, del, Glass breakage, Hot spots]</td>\n",
       "      <td>1</td>\n",
       "      <td>0</td>\n",
       "      <td>0</td>\n",
       "      <td>0</td>\n",
       "      <td>0</td>\n",
       "      <td>1</td>\n",
       "      <td>0</td>\n",
       "      <td>0</td>\n",
       "    </tr>\n",
       "  </tbody>\n",
       "</table>\n",
       "<p>5 rows × 24 columns</p>\n",
       "</div>"
      ],
      "text/plain": [
       "          Mounting  1-axis tracker  2-axis tracker  façade/BIPV  rack  roof  \\\n",
       "11041  single-axis               0               0            0     0     0   \n",
       "11042  single-axis               0               0            0     0     0   \n",
       "11043  single-axis               0               0            0     0     0   \n",
       "11044  single-axis               0               0            0     0     0   \n",
       "11045  single-axis               0               0            0     0     0   \n",
       "\n",
       "       roof rack  single-axis Climate3  Desert         ...           \\\n",
       "11041          0            1     Snow       0         ...            \n",
       "11042          0            1     Snow       0         ...            \n",
       "11043          0            1     Snow       0         ...            \n",
       "11044          0            1     Snow       0         ...            \n",
       "11045          0            1     Snow       0         ...            \n",
       "\n",
       "       After 2000                                    Cause (Cleaned)  \\\n",
       "11041           1  [extrusion, disc, del, Glass breakage, Hot spots]   \n",
       "11042           1  [extrusion, disc, del, Glass breakage, Hot spots]   \n",
       "11043           1  [extrusion, disc, del, Glass breakage, Hot spots]   \n",
       "11044           1  [extrusion, disc, del, Glass breakage, Hot spots]   \n",
       "11045           1  [extrusion, disc, del, Glass breakage, Hot spots]   \n",
       "\n",
       "       Hot spots  Encapsulant discoloration Major delamination  \\\n",
       "11041          1                          0                  0   \n",
       "11042          1                          0                  0   \n",
       "11043          1                          0                  0   \n",
       "11044          1                          0                  0   \n",
       "11045          1                          0                  0   \n",
       "\n",
       "      Internal circuitry discoloration  Fractured cells  Glass breakage  \\\n",
       "11041                                0                0               1   \n",
       "11042                                0                0               1   \n",
       "11043                                0                0               1   \n",
       "11044                                0                0               1   \n",
       "11045                                0                0               1   \n",
       "\n",
       "       Permanent soiling  Diode/J-box problem  \n",
       "11041                  0                    0  \n",
       "11042                  0                    0  \n",
       "11043                  0                    0  \n",
       "11044                  0                    0  \n",
       "11045                  0                    0  \n",
       "\n",
       "[5 rows x 24 columns]"
      ]
     },
     "execution_count": 15,
     "metadata": {},
     "output_type": "execute_result"
    }
   ],
   "source": [
    "# Create binary dummy data for each of the categorical variables\n",
    "naive_df = pd.DataFrame(solar.loc[:, 'Mounting'])\n",
    "naive_df = naive_df.join(pd.get_dummies(solar['Mounting']))\n",
    "naive_df = naive_df.join(solar.loc[:, 'Climate3'])\n",
    "naive_df = naive_df.join(pd.get_dummies(solar['Climate3']))\n",
    "\n",
    "# Bin the installation year data into binary values (0: <2000, 1: >=2000)\n",
    "naive_df = naive_df.join(solar.loc[:, 'Begin.Year'])\n",
    "naive_df['Begin.Year'].fillna(naive_df['Begin.Year'].mean(), inplace=True)\n",
    "bins = [0, 2000, 9999]\n",
    "group_names = [0, 1]\n",
    "naive_df['After 2000'] = pd.cut(naive_df['Begin.Year'], bins, labels=group_names)\n",
    "\n",
    "# Add the cleaned Cause column for visual reference\n",
    "naive_df = naive_df.join(solar.loc[:, 'Cause (Cleaned)'])\n",
    "\n",
    "# Add the dummy variable columns of the degradation modes\n",
    "for c in causes:\n",
    "    naive_df = pd.concat([naive_df, solar[c]], axis=1)\n",
    "    \n",
    "naive_df.tail()"
   ]
  },
  {
   "cell_type": "code",
   "execution_count": 17,
   "metadata": {
    "collapsed": false
   },
   "outputs": [
    {
     "name": "stdout",
     "output_type": "stream",
     "text": [
      "Cause: Hot spots\n",
      "Score: 0.646659424226\n",
      "Cause: Encapsulant discoloration\n",
      "Score: 0.84990041644\n",
      "Cause: Major delamination\n",
      "Score: 0.769328263625\n",
      "Cause: Internal circuitry discoloration\n",
      "Score: 0.75484338222\n",
      "Cause: Fractured cells\n",
      "Score: 0.958627557487\n",
      "Cause: Glass breakage\n",
      "Score: 0.963154082926\n",
      "Cause: Permanent soiling\n",
      "Score: 0.983885569437\n",
      "Cause: Diode/J-box problem\n",
      "Score: 0.761271048343\n"
     ]
    }
   ],
   "source": [
    "# Build a dictionary to hold all Bernoulli Naive Bayes models\n",
    "# Format: {Key:Degradation mode, Value:Naive Bayes model}\n",
    "nb_dict = {}\n",
    "\n",
    "# Columns to fit against the target for the Naive Bayes models\n",
    "X = naive_df.loc[:, ['1-axis tracker', '2-axis tracker', 'rack', 'roof', 'roof rack',\n",
    "                 'single-axis', 'Desert', 'Hot & Humid', 'Moderate', 'Snow', 'After 2000']]\n",
    "\n",
    "# Find score of Bernoulli Naive Bayes models for each degradation mode\n",
    "for c in causes:\n",
    "    y = naive_df[c]\n",
    "    clf = BernoulliNB()\n",
    "    clf.fit(X, y)\n",
    "    print('Cause: ' + c)\n",
    "    print('Score: ' + str(clf.score(X, y)))\n",
    "    nb_dict[c] = clf"
   ]
  },
  {
   "cell_type": "code",
   "execution_count": 41,
   "metadata": {
    "collapsed": false
   },
   "outputs": [
    {
     "data": {
      "text/plain": [
       "0.64674995473474561"
      ]
     },
     "execution_count": 41,
     "metadata": {},
     "output_type": "execute_result"
    }
   ],
   "source": [
    "nb_dict['Hot spots'].score(X,naive_df['Hot spots'])"
   ]
  },
  {
   "cell_type": "code",
   "execution_count": 42,
   "metadata": {
    "collapsed": false
   },
   "outputs": [
    {
     "data": {
      "text/html": [
       "<div>\n",
       "<table border=\"1\" class=\"dataframe\">\n",
       "  <thead>\n",
       "    <tr style=\"text-align: right;\">\n",
       "      <th></th>\n",
       "      <th>1-axis tracker</th>\n",
       "      <th>2-axis tracker</th>\n",
       "      <th>rack</th>\n",
       "      <th>roof</th>\n",
       "      <th>roof rack</th>\n",
       "      <th>single-axis</th>\n",
       "      <th>Desert</th>\n",
       "      <th>Hot &amp; Humid</th>\n",
       "      <th>Moderate</th>\n",
       "      <th>Snow</th>\n",
       "      <th>After 2000</th>\n",
       "    </tr>\n",
       "  </thead>\n",
       "  <tbody>\n",
       "    <tr>\n",
       "      <th>0</th>\n",
       "      <td>0</td>\n",
       "      <td>0</td>\n",
       "      <td>1</td>\n",
       "      <td>0</td>\n",
       "      <td>0</td>\n",
       "      <td>0</td>\n",
       "      <td>0</td>\n",
       "      <td>0</td>\n",
       "      <td>1</td>\n",
       "      <td>0</td>\n",
       "      <td>0</td>\n",
       "    </tr>\n",
       "    <tr>\n",
       "      <th>1</th>\n",
       "      <td>0</td>\n",
       "      <td>0</td>\n",
       "      <td>1</td>\n",
       "      <td>0</td>\n",
       "      <td>0</td>\n",
       "      <td>0</td>\n",
       "      <td>0</td>\n",
       "      <td>0</td>\n",
       "      <td>1</td>\n",
       "      <td>0</td>\n",
       "      <td>0</td>\n",
       "    </tr>\n",
       "    <tr>\n",
       "      <th>2</th>\n",
       "      <td>0</td>\n",
       "      <td>0</td>\n",
       "      <td>0</td>\n",
       "      <td>0</td>\n",
       "      <td>0</td>\n",
       "      <td>0</td>\n",
       "      <td>0</td>\n",
       "      <td>1</td>\n",
       "      <td>0</td>\n",
       "      <td>0</td>\n",
       "      <td>0</td>\n",
       "    </tr>\n",
       "    <tr>\n",
       "      <th>3</th>\n",
       "      <td>0</td>\n",
       "      <td>0</td>\n",
       "      <td>0</td>\n",
       "      <td>0</td>\n",
       "      <td>0</td>\n",
       "      <td>0</td>\n",
       "      <td>0</td>\n",
       "      <td>1</td>\n",
       "      <td>0</td>\n",
       "      <td>0</td>\n",
       "      <td>0</td>\n",
       "    </tr>\n",
       "    <tr>\n",
       "      <th>4</th>\n",
       "      <td>0</td>\n",
       "      <td>0</td>\n",
       "      <td>0</td>\n",
       "      <td>0</td>\n",
       "      <td>0</td>\n",
       "      <td>0</td>\n",
       "      <td>0</td>\n",
       "      <td>1</td>\n",
       "      <td>0</td>\n",
       "      <td>0</td>\n",
       "      <td>0</td>\n",
       "    </tr>\n",
       "  </tbody>\n",
       "</table>\n",
       "</div>"
      ],
      "text/plain": [
       "   1-axis tracker  2-axis tracker  rack  roof  roof rack  single-axis  Desert  \\\n",
       "0               0               0     1     0          0            0       0   \n",
       "1               0               0     1     0          0            0       0   \n",
       "2               0               0     0     0          0            0       0   \n",
       "3               0               0     0     0          0            0       0   \n",
       "4               0               0     0     0          0            0       0   \n",
       "\n",
       "   Hot & Humid  Moderate  Snow After 2000  \n",
       "0            0         1     0          0  \n",
       "1            0         1     0          0  \n",
       "2            1         0     0          0  \n",
       "3            1         0     0          0  \n",
       "4            1         0     0          0  "
      ]
     },
     "execution_count": 42,
     "metadata": {},
     "output_type": "execute_result"
    }
   ],
   "source": [
    "X.head()"
   ]
  },
  {
   "cell_type": "code",
   "execution_count": 43,
   "metadata": {
    "collapsed": false
   },
   "outputs": [
    {
     "data": {
      "text/plain": [
       "0.95419156255658155"
      ]
     },
     "execution_count": 43,
     "metadata": {},
     "output_type": "execute_result"
    }
   ],
   "source": [
    "clf.score(X, y)\n",
    "# look into how it is calculated"
   ]
  },
  {
   "cell_type": "code",
   "execution_count": 44,
   "metadata": {
    "collapsed": false
   },
   "outputs": [
    {
     "data": {
      "text/plain": [
       "array([[ 0.34092551,  0.65907449]])"
      ]
     },
     "execution_count": 44,
     "metadata": {},
     "output_type": "execute_result"
    }
   ],
   "source": [
    "# Posterior probability with 1-axis tracker and Desert and BEFORE 2000\n",
    "clf.predict_proba([[1, 0, 0, 0, 0, 0, 1, 0, 0, 0, 0]])"
   ]
  },
  {
   "cell_type": "code",
   "execution_count": 45,
   "metadata": {
    "collapsed": false
   },
   "outputs": [
    {
     "data": {
      "text/plain": [
       "array([[ 0.12839453,  0.87160547]])"
      ]
     },
     "execution_count": 45,
     "metadata": {},
     "output_type": "execute_result"
    }
   ],
   "source": [
    "nb_dict['Hot spots'].predict_proba([[1, 0, 0, 0, 0, 0, 1, 0, 0, 0, 0]])"
   ]
  },
  {
   "cell_type": "code",
   "execution_count": 46,
   "metadata": {
    "collapsed": false
   },
   "outputs": [
    {
     "data": {
      "text/plain": [
       "array([1])"
      ]
     },
     "execution_count": 46,
     "metadata": {},
     "output_type": "execute_result"
    }
   ],
   "source": [
    "clf.predict([[1, 0, 0, 0, 0, 0, 1, 0, 0, 0, 0]])\n",
    "#confusion matrix"
   ]
  },
  {
   "cell_type": "code",
   "execution_count": 47,
   "metadata": {
    "collapsed": false
   },
   "outputs": [
    {
     "data": {
      "text/plain": [
       "array([[ 0.97942813,  0.02057187]])"
      ]
     },
     "execution_count": 47,
     "metadata": {},
     "output_type": "execute_result"
    }
   ],
   "source": [
    "# Posterior probability with 1-axis tracker and Desert and AFTER 2000\n",
    "clf.predict_proba([[1, 0, 0, 0, 0, 0, 1, 0, 0, 0, 1]])"
   ]
  },
  {
   "cell_type": "markdown",
   "metadata": {},
   "source": [
    "### Testing area below"
   ]
  },
  {
   "cell_type": "code",
   "execution_count": 48,
   "metadata": {
    "collapsed": false
   },
   "outputs": [
    {
     "data": {
      "text/plain": [
       "GaussianNB()"
      ]
     },
     "execution_count": 48,
     "metadata": {},
     "output_type": "execute_result"
    }
   ],
   "source": [
    "# Import naive bayes\n",
    "from sklearn.naive_bayes import GaussianNB\n",
    "\n",
    "X = naive_df.loc[:, ['1-axis tracker', '2-axis tracker', 'rack', 'roof', 'roof rack',\n",
    "                 'single-axis', 'Desert', 'Hot & Humid', 'Moderate', 'Snow', 'Begin.Year']]\n",
    "y = naive_df['Hot spots']\n",
    "clf = GaussianNB()\n",
    "clf.fit(X, y)"
   ]
  },
  {
   "cell_type": "code",
   "execution_count": 49,
   "metadata": {
    "collapsed": false
   },
   "outputs": [
    {
     "data": {
      "text/plain": [
       "array([[  9.79212906e-01,   2.07870941e-02],\n",
       "       [  9.79212906e-01,   2.07870941e-02],\n",
       "       [  1.00000000e+00,   7.15535245e-23],\n",
       "       ..., \n",
       "       [  0.00000000e+00,   1.00000000e+00],\n",
       "       [  0.00000000e+00,   1.00000000e+00],\n",
       "       [  0.00000000e+00,   1.00000000e+00]])"
      ]
     },
     "execution_count": 49,
     "metadata": {},
     "output_type": "execute_result"
    }
   ],
   "source": [
    "clf.predict_proba(X)"
   ]
  },
  {
   "cell_type": "code",
   "execution_count": 50,
   "metadata": {
    "collapsed": false
   },
   "outputs": [
    {
     "data": {
      "text/plain": [
       "array([0, 0, 0, ..., 1, 1, 1])"
      ]
     },
     "execution_count": 50,
     "metadata": {},
     "output_type": "execute_result"
    }
   ],
   "source": [
    "clf.predict(X)"
   ]
  },
  {
   "cell_type": "code",
   "execution_count": null,
   "metadata": {
    "collapsed": true
   },
   "outputs": [],
   "source": []
  }
 ],
 "metadata": {
  "anaconda-cloud": {},
  "kernelspec": {
   "display_name": "Python [default]",
   "language": "python",
   "name": "python2"
  },
  "language_info": {
   "codemirror_mode": {
    "name": "ipython",
    "version": 2
   },
   "file_extension": ".py",
   "mimetype": "text/x-python",
   "name": "python",
   "nbconvert_exporter": "python",
   "pygments_lexer": "ipython2",
   "version": "2.7.12"
  }
 },
 "nbformat": 4,
 "nbformat_minor": 1
}
